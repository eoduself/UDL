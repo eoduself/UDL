{
  "nbformat": 4,
  "nbformat_minor": 0,
  "metadata": {
    "colab": {
      "provenance": []
    },
    "kernelspec": {
      "name": "python3",
      "display_name": "Python 3"
    },
    "language_info": {
      "name": "python"
    }
  },
  "cells": [
    {
      "cell_type": "code",
      "execution_count": null,
      "metadata": {
        "id": "OmAPjo1wzTUv"
      },
      "outputs": [],
      "source": [
        "!git clone https://github.com/amazon-science/esci-data.git"
      ]
    },
    {
      "cell_type": "code",
      "source": [
        "import pandas as pd\n",
        "from tqdm import tqdm\n",
        "import os\n",
        "import json\n",
        "\n",
        "df_examples = pd.read_parquet('esci-data/shopping_queries_dataset/shopping_queries_dataset_examples.parquet')\n",
        "df_products = pd.read_parquet('esci-data/shopping_queries_dataset/shopping_queries_dataset_products.parquet')\n",
        "df_sources = pd.read_csv(\"esci-data/shopping_queries_dataset/shopping_queries_dataset_sources.csv\")"
      ],
      "metadata": {
        "id": "313rLzYmzigO"
      },
      "execution_count": null,
      "outputs": []
    },
    {
      "cell_type": "code",
      "source": [
        "df_examples_products = pd.merge(\n",
        "    df_examples,\n",
        "    df_products,\n",
        "    how='left',\n",
        "    left_on=['product_locale','product_id'],\n",
        "    right_on=['product_locale', 'product_id']\n",
        ")\n",
        "\n",
        "df_task = df_examples_products[df_examples_products[\"small_version\"] == 1]\n",
        "df_task.head(5)"
      ],
      "metadata": {
        "id": "z-UEttBNzioc"
      },
      "execution_count": null,
      "outputs": []
    },
    {
      "cell_type": "code",
      "source": [
        "en_task = df_task[df_task[\"product_locale\"] == \"us\"]\n",
        "en_task_test = en_task[en_task[\"split\"] == \"test\"].fillna(\"\")\n",
        "en_task_test.head(5)"
      ],
      "metadata": {
        "id": "at8IrVY-1r6K"
      },
      "execution_count": null,
      "outputs": []
    },
    {
      "cell_type": "code",
      "source": [
        "# For NDCG, we set the gains of E, S, C, and I to 1.0, 0.1, 0.01, and 0.0, respectively\n",
        "def label_value(x):\n",
        "    if x == \"E\":\n",
        "       return 1.0\n",
        "    elif x == \"S\":\n",
        "       return 0.1\n",
        "    elif x == \"C\":\n",
        "       return 0.01\n",
        "    elif x == \"I\":\n",
        "       return 0\n",
        "    else:\n",
        "       print(\"ERROR\")\n",
        "\n",
        "en_task_test[\"esci_label\"] = en_task_test[\"esci_label\"].apply(label_value)\n",
        "en_task_test.head(5)"
      ],
      "metadata": {
        "id": "Ws-JTFLt5Ixd"
      },
      "execution_count": null,
      "outputs": []
    },
    {
      "cell_type": "code",
      "source": [
        "corpus = {}\n",
        "\n",
        "for doc_id in tqdm(en_task_test[\"product_id\"].unique()):\n",
        "    sample = en_task_test[en_task_test[\"product_id\"] == doc_id]\n",
        "    corpus[doc_id] = {'title':list(sample['product_title'])[0], 'text': list(sample['product_description'])[0] + \\\n",
        "                      list(sample['product_bullet_point'])[0] + list(sample['product_brand'])[0] + \\\n",
        "                      list(sample['product_color'])[0]}\n",
        "print('corpus len:', len(corpus))\n",
        "\n",
        "queries = {}\n",
        "q_id = \"ma-amazon\"\n",
        "num = 0\n",
        "for query in tqdm(en_task_test[\"query\"].unique()):\n",
        "  queries[q_id+str(num)] = query\n",
        "  num += 1\n",
        "print('queries len:', len(queries))\n",
        "\n",
        "qrels = {}\n",
        "\n",
        "for key in tqdm(queries.keys()):\n",
        "  sample = en_task_test[en_task_test[\"query\"]==queries[key]]\n",
        "  for index, row in sample.iterrows():\n",
        "    if key not in qrels.keys():\n",
        "      qrels[key] = {row['product_id']: row['esci_label']}\n",
        "    else:\n",
        "      qrels[key].update({row['product_id']: row['esci_label']})\n",
        "print('qrels len:', len(qrels))"
      ],
      "metadata": {
        "id": "JfL80XVEFDKr"
      },
      "execution_count": null,
      "outputs": []
    },
    {
      "cell_type": "code",
      "source": [
        "if not os.path.exists(\"esci-data/ndcg\"):\n",
        "  os.mkdir(\"esci-data/ndcg\")\n",
        "\n",
        "with open(\"esci-data/ndcg/corpus.jsonl\", \"w\") as output:\n",
        "  json.dump(corpus, output)\n",
        "with open(\"esci-data/ndcg/qrels.jsonl\", \"w\") as output:\n",
        "  json.dump(qrels, output)\n",
        "with open(\"esci-data/ndcg/queries.jsonl\", \"w\") as output:\n",
        "  json.dump(queries, output)"
      ],
      "metadata": {
        "id": "6B-_ZKWqGe8s"
      },
      "execution_count": null,
      "outputs": []
    },
    {
      "cell_type": "code",
      "source": [
        "loc = 0\n",
        "for k, v in qrels.items():\n",
        "    print(k, v)\n",
        "    if loc == 3:\n",
        "      print()\n",
        "      break\n",
        "    loc += 1\n",
        "\n",
        "print(\"Reassign Gains for Recall measurement.\")\n",
        "\n",
        "# For Recall, we set the gains of E, S, C, and I to 1.0, 0.0, 0.0, and 0.0, respectively\n",
        "\n",
        "for key in qrels.keys():\n",
        "  for key2 in qrels[key].keys():\n",
        "    if qrels[key][key2] != 1.0:\n",
        "      qrels[key][key2] = 0.0\n",
        "\n",
        "loc = 0\n",
        "for k, v in qrels.items():\n",
        "    print(k, v)\n",
        "    if loc == 3:\n",
        "      break\n",
        "    loc += 1"
      ],
      "metadata": {
        "id": "u4m4Nx5Bia6F"
      },
      "execution_count": null,
      "outputs": []
    },
    {
      "cell_type": "code",
      "source": [
        "if not os.path.exists(\"esci-data/recall\"):\n",
        "  os.mkdir(\"esci-data/recall\")\n",
        "\n",
        "with open(\"esci-data/recall/corpus.jsonl\", \"w\") as output:\n",
        "  json.dump(corpus, output)\n",
        "with open(\"esci-data/recall/qrels.jsonl\", \"w\") as output:\n",
        "  json.dump(qrels, output)\n",
        "with open(\"esci-data/recall/queries.jsonl\", \"w\") as output:\n",
        "  json.dump(queries, output)"
      ],
      "metadata": {
        "id": "F_caFeIpH_SR"
      },
      "execution_count": null,
      "outputs": []
    },
    {
      "cell_type": "code",
      "source": [],
      "metadata": {
        "id": "BBnLnEfm5oaA"
      },
      "execution_count": null,
      "outputs": []
    }
  ]
}